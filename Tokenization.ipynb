{
 "cells": [
  {
   "cell_type": "code",
   "execution_count": 3,
   "id": "d265d9ad",
   "metadata": {},
   "outputs": [],
   "source": [
    "import spacy"
   ]
  },
  {
   "cell_type": "code",
   "execution_count": 21,
   "id": "a672cb0e",
   "metadata": {},
   "outputs": [
    {
     "name": "stdout",
     "output_type": "stream",
     "text": [
      "Dr.\n",
      "Strange\n",
      "loves\n",
      "Christine\n",
      "Plamer\n",
      "and\n",
      "he\n",
      "said\n",
      "I\n",
      "Love\n",
      "you\n",
      "in\n",
      "every\n",
      "universe\n",
      "!\n"
     ]
    }
   ],
   "source": [
    "nlp = spacy.blank(\"en\")\n",
    "\n",
    "doc = nlp(\"Dr. Strange loves Christine Plamer and he said I Love you in every universe!\")\n",
    "\n",
    "for token in doc:\n",
    "    print(token)"
   ]
  },
  {
   "cell_type": "code",
   "execution_count": 22,
   "id": "7e54591a",
   "metadata": {},
   "outputs": [
    {
     "data": {
      "text/plain": [
       "spacy.lang.en.English"
      ]
     },
     "execution_count": 22,
     "metadata": {},
     "output_type": "execute_result"
    }
   ],
   "source": [
    "type(nlp)"
   ]
  },
  {
   "cell_type": "markdown",
   "id": "601fd5ac",
   "metadata": {},
   "source": [
    "# Token attributes"
   ]
  },
  {
   "cell_type": "code",
   "execution_count": 18,
   "id": "705f1f48",
   "metadata": {},
   "outputs": [
    {
     "name": "stdout",
     "output_type": "stream",
     "text": [
      "Dr. ==> index:  0 is_alpha: False is_punct: False like_num: False is_currency: False\n",
      "Strange ==> index:  1 is_alpha: True is_punct: False like_num: False is_currency: False\n",
      "loves ==> index:  2 is_alpha: True is_punct: False like_num: False is_currency: False\n",
      "Christine ==> index:  3 is_alpha: True is_punct: False like_num: False is_currency: False\n",
      "Plamer ==> index:  4 is_alpha: True is_punct: False like_num: False is_currency: False\n",
      "and ==> index:  5 is_alpha: True is_punct: False like_num: False is_currency: False\n",
      "he ==> index:  6 is_alpha: True is_punct: False like_num: False is_currency: False\n",
      "said ==> index:  7 is_alpha: True is_punct: False like_num: False is_currency: False\n",
      "I ==> index:  8 is_alpha: True is_punct: False like_num: False is_currency: False\n",
      "Love ==> index:  9 is_alpha: True is_punct: False like_num: False is_currency: False\n",
      "you ==> index:  10 is_alpha: True is_punct: False like_num: False is_currency: False\n",
      "in ==> index:  11 is_alpha: True is_punct: False like_num: False is_currency: False\n",
      "every ==> index:  12 is_alpha: True is_punct: False like_num: False is_currency: False\n",
      "universe ==> index:  13 is_alpha: True is_punct: False like_num: False is_currency: False\n",
      "! ==> index:  14 is_alpha: False is_punct: True like_num: False is_currency: False\n"
     ]
    }
   ],
   "source": [
    "for token in doc:\n",
    "    print(token, \"==>\", \"index: \", token.i, \"is_alpha:\", token.is_alpha, \n",
    "          \"is_punct:\", token.is_punct, \n",
    "          \"like_num:\", token.like_num,\n",
    "          \"is_currency:\", token.is_currency,\n",
    "         )"
   ]
  },
  {
   "cell_type": "markdown",
   "id": "f18afabf",
   "metadata": {},
   "source": [
    "# Span Object"
   ]
  },
  {
   "cell_type": "code",
   "execution_count": 6,
   "id": "19f33ae1",
   "metadata": {},
   "outputs": [
    {
     "data": {
      "text/plain": [
       "Dr. Strange loves Christine Palmer"
      ]
     },
     "execution_count": 6,
     "metadata": {},
     "output_type": "execute_result"
    }
   ],
   "source": [
    "span = doc[0:5]\n",
    "span"
   ]
  },
  {
   "cell_type": "markdown",
   "id": "38252eff",
   "metadata": {},
   "source": [
    "# Sentence Tokenization or Segmentation "
   ]
  },
  {
   "cell_type": "code",
   "execution_count": null,
   "id": "2d6a7b0e",
   "metadata": {},
   "outputs": [],
   "source": [
    "nlp.pipeline"
   ]
  },
  {
   "cell_type": "code",
   "execution_count": 9,
   "id": "679c4497",
   "metadata": {},
   "outputs": [
    {
     "data": {
      "text/plain": [
       "<spacy.pipeline.sentencizer.Sentencizer at 0x1affc55abc0>"
      ]
     },
     "execution_count": 9,
     "metadata": {},
     "output_type": "execute_result"
    }
   ],
   "source": [
    "nlp.add_pipe('sentencizer')"
   ]
  },
  {
   "cell_type": "code",
   "execution_count": 10,
   "id": "5c501f58",
   "metadata": {},
   "outputs": [
    {
     "name": "stdout",
     "output_type": "stream",
     "text": [
      "Dr. Strange loves Christine Palmer and he said I Love you in every universe!\n"
     ]
    }
   ],
   "source": [
    "doc = nlp(\"Dr. Strange loves Christine Palmer and he said I Love you in every universe!\")\n",
    "for sentence in doc.sents:\n",
    "    print(sentence)"
   ]
  },
  {
   "cell_type": "code",
   "execution_count": null,
   "id": "7c5d712c",
   "metadata": {},
   "outputs": [],
   "source": []
  }
 ],
 "metadata": {
  "kernelspec": {
   "display_name": "Python 3 (ipykernel)",
   "language": "python",
   "name": "python3"
  },
  "language_info": {
   "codemirror_mode": {
    "name": "ipython",
    "version": 3
   },
   "file_extension": ".py",
   "mimetype": "text/x-python",
   "name": "python",
   "nbconvert_exporter": "python",
   "pygments_lexer": "ipython3",
   "version": "3.9.7"
  }
 },
 "nbformat": 4,
 "nbformat_minor": 5
}
